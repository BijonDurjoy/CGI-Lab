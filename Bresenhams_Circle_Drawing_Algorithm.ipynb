{
 "cells": [
  {
   "cell_type": "code",
   "execution_count": 2,
   "id": "760a2673-246b-4dc2-9e87-f763917679e3",
   "metadata": {},
   "outputs": [],
   "source": [
    "import matplotlib.pyplot as plt"
   ]
  },
  {
   "cell_type": "code",
   "execution_count": 4,
   "id": "2a547201-101c-47fa-99d9-4ea7a689e319",
   "metadata": {},
   "outputs": [],
   "source": [
    "def eight_way_symmetric_plot(cx, cy, x, y):\n",
    "    points = []\n",
    "    points.append((x + cx, y + cy))\n",
    "    points.append((x + cx, -y + cy))\n",
    "    points.append((-x + cx, -y + cy))\n",
    "    points.append((-x + cx, y + cy))\n",
    "    \n",
    "    points.append((y + cx, x + cy))\n",
    "    points.append((y + cx, -x + cy))\n",
    "    points.append((-y + cx, -x + cy))\n",
    "    points.append((-y + cx, x + cy))\n",
    "    \n",
    "    pointX, pointY = zip(*points)\n",
    "    \n",
    "    pointX = list(pointX)\n",
    "    pointY = list(pointY)\n",
    "    \n",
    "    return pointX, pointY"
   ]
  },
  {
   "cell_type": "code",
   "execution_count": 6,
   "id": "1865a5f5-547c-4253-b08f-ccd598df4009",
   "metadata": {},
   "outputs": [],
   "source": [
    "def circle_drawing(cx, cy, r):\n",
    "    \n",
    "    x = 0\n",
    "    y = r \n",
    "    d = 3 - 2 * r\n",
    "    \n",
    "    x_values = []\n",
    "    y_values = []\n",
    "    \n",
    "    pointX, pointY = eight_way_symmetric_plot(cx, cy, x, y)\n",
    "    \n",
    "    x_values.append(pointX)\n",
    "    y_values.append(pointY)\n",
    "    \n",
    "    while x <= y:\n",
    "        \n",
    "        print(f\"d : {d}\")\n",
    "        \n",
    "        if d < 0:\n",
    "            d += 4 * x + 6\n",
    "        else:\n",
    "            d += 4 * (x - y) + 10\n",
    "            y -= 1\n",
    "        \n",
    "        x += 1\n",
    "        pointX, pointY = eight_way_symmetric_plot(cx, cy, x, y)\n",
    "        \n",
    "        x_values.append(pointX)\n",
    "        y_values.append(pointY)\n",
    "        \n",
    "    \n",
    "    return x_values, y_values"
   ]
  },
  {
   "cell_type": "code",
   "execution_count": 19,
   "id": "ab2f1c9e-e9bb-49fd-ac20-75739b6bdc35",
   "metadata": {},
   "outputs": [],
   "source": [
    "def plot_func(x_values, y_values, cx, cy):\n",
    "    plt.plot(x_values, y_values, marker = 'o', color = 'red')\n",
    "    plt.plot(cx, cy, marker = 'o', color = 'blue')\n",
    "    plt.title(\"Bresenham's circle drawing algorithm\")\n",
    "    plt.xlabel(\"x-axis\")\n",
    "    plt.ylabel(\"y-axis\")\n",
    "    plt.grid(\"true\")"
   ]
  },
  {
   "cell_type": "code",
   "execution_count": 13,
   "id": "ebb7e22d-44d6-41fb-a75d-dba8f49ec37b",
   "metadata": {},
   "outputs": [
    {
     "name": "stdout",
     "output_type": "stream",
     "text": [
      "d : -13\n",
      "d : -7\n",
      "d : 3\n",
      "d : -11\n",
      "d : 7\n",
      "d : 5\n"
     ]
    }
   ],
   "source": [
    "#center and radius of a circle\n",
    "cx, cy = 2,2\n",
    "r = 8\n",
    "\n",
    "x_values, y_values = circle_drawing(cx, cy, r)"
   ]
  },
  {
   "cell_type": "code",
   "execution_count": 15,
   "id": "c19750ab-39e8-4afb-8460-0da31dfba30d",
   "metadata": {},
   "outputs": [
    {
     "data": {
      "text/plain": [
       "[[2, 2, 2, 2, 10, 10, -6, -6],\n",
       " [3, 3, 1, 1, 10, 10, -6, -6],\n",
       " [4, 4, 0, 0, 10, 10, -6, -6],\n",
       " [5, 5, -1, -1, 9, 9, -5, -5],\n",
       " [6, 6, -2, -2, 9, 9, -5, -5],\n",
       " [7, 7, -3, -3, 8, 8, -4, -4],\n",
       " [8, 8, -4, -4, 7, 7, -3, -3]]"
      ]
     },
     "execution_count": 15,
     "metadata": {},
     "output_type": "execute_result"
    }
   ],
   "source": [
    "x_values"
   ]
  },
  {
   "cell_type": "code",
   "execution_count": 17,
   "id": "d07e6b56-c715-437a-820d-5f0fd814b617",
   "metadata": {},
   "outputs": [
    {
     "data": {
      "text/plain": [
       "[[10, -6, -6, 10, 2, 2, 2, 2],\n",
       " [10, -6, -6, 10, 3, 1, 1, 3],\n",
       " [10, -6, -6, 10, 4, 0, 0, 4],\n",
       " [9, -5, -5, 9, 5, -1, -1, 5],\n",
       " [9, -5, -5, 9, 6, -2, -2, 6],\n",
       " [8, -4, -4, 8, 7, -3, -3, 7],\n",
       " [7, -3, -3, 7, 8, -4, -4, 8]]"
      ]
     },
     "execution_count": 17,
     "metadata": {},
     "output_type": "execute_result"
    }
   ],
   "source": [
    "y_values"
   ]
  },
  {
   "cell_type": "code",
   "execution_count": 21,
   "id": "f33e6f89-9ef9-4a2f-82bb-c16aa53fa5ea",
   "metadata": {},
   "outputs": [
    {
     "data": {
      "image/png": "[encoded data removed]",
      "text/plain": [
       "<Figure size 640x480 with 1 Axes>"
      ]
     },
     "metadata": {},
     "output_type": "display_data"
    }
   ],
   "source": [
    "plot_func(x_values, y_values, cx, cy)"
   ]
  },
  {
   "cell_type": "code",
   "execution_count": 23,
   "id": "e102304d-b783-43e0-b96d-9dc8d4834008",
   "metadata": {},
   "outputs": [
    {
     "name": "stdout",
     "output_type": "stream",
     "text": [
      "d : -13\n",
      "d : -7\n",
      "d : 3\n",
      "d : -11\n",
      "d : 7\n",
      "d : 5\n"
     ]
    }
   ],
   "source": [
    "cx, cy = 0, 4\n",
    "r = 8\n",
    "\n",
    "x_values, y_values = circle_drawing(cx, cy, r)"
   ]
  },
  {
   "cell_type": "code",
   "execution_count": null,
   "id": "bdb5adaf-401f-437f-a16f-870227e1121e",
   "metadata": {},
   "outputs": [],
   "source": []
  },
  {
   "cell_type": "code",
   "execution_count": null,
   "id": "52350146-9c48-4f8e-9bad-4594537420ed",
   "metadata": {},
   "outputs": [],
   "source": []
  },
  {
   "cell_type": "code",
   "execution_count": null,
   "id": "9a1f7b91-cb8c-4189-90eb-efdf8e261ac8",
   "metadata": {},
   "outputs": [],
   "source": []
  }
 ],
 "metadata": {
  "kernelspec": {
   "display_name": "Python 3 (ipykernel)",
   "language": "python",
   "name": "python3"
  },
  "language_info": {
   "codemirror_mode": {
    "name": "ipython",
    "version": 3
   },
   "file_extension": ".py",
   "mimetype": "text/x-python",
   "name": "python",
   "nbconvert_exporter": "python",
   "pygments_lexer": "ipython3",
   "version": "3.12.7"
  }
 },
 "nbformat": 4,
 "nbformat_minor": 5
}
