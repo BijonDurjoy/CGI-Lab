{
 "cells": [
  {
   "cell_type": "code",
   "execution_count": 108,
   "id": "f5bb5f4f-57da-4dbd-b07b-9c3ffcc15c4d",
   "metadata": {},
   "outputs": [],
   "source": [
    "import matplotlib.pyplot as plt\n",
    "import numpy as np"
   ]
  },
  {
   "cell_type": "code",
   "execution_count": 110,
   "id": "66bff0b5-f22f-43ab-bec8-80b2ea40c07b",
   "metadata": {},
   "outputs": [],
   "source": [
    "def draw_line(x1, y1, x2, y2):\n",
    "    \n",
    "    \n",
    "    \n",
    "    is_steep = abs(y2 - y1) > abs(x2 - x1)\n",
    "    \n",
    "    if is_steep:\n",
    "        x1, y1 = y1, x1\n",
    "        x2, y2 = y2, x2\n",
    "    \n",
    "    sx = 1 if x1 < x2 else -1\n",
    "    sy = 1 if y1 < y2 else -1\n",
    "    \n",
    "    dx = abs(x2 - x1)\n",
    "    dy = abs(y2 - y1)\n",
    "    \n",
    "    p = 2 * dy - dx\n",
    "    \n",
    "    x_values = []\n",
    "    y_values = []\n",
    "    x = x1\n",
    "    y = y1\n",
    "    \n",
    "    while True:\n",
    "        if is_steep:\n",
    "            x_values.append(y)\n",
    "            y_values.append(x)\n",
    "        else:\n",
    "            x_values.append(x)\n",
    "            y_values.append(y)\n",
    "        \n",
    "        if x == x2 and y == y2:\n",
    "            break\n",
    "            \n",
    "        if p < 0:\n",
    "            p += 2 * dy\n",
    "        else:\n",
    "            y += sy\n",
    "            p += 2 * dy - 2 * dx\n",
    "        \n",
    "        x += sx\n",
    "        \n",
    "    return x_values, y_values"
   ]
  },
  {
   "cell_type": "code",
   "execution_count": 112,
   "id": "cea62a06-4b36-4f68-9098-31fd4d472724",
   "metadata": {},
   "outputs": [],
   "source": [
    "def eight_way_symmetric_plot(cx, cy, x, y):\n",
    "    points = []\n",
    "    points.append((x + cx, y + cy))\n",
    "    points.append((x + cx, -y + cy))\n",
    "    points.append((-x + cx, -y + cy))\n",
    "    points.append((-x + cx, y + cy))\n",
    "    \n",
    "    points.append((y + cx, x + cy))\n",
    "    points.append((y + cx, -x + cy))\n",
    "    points.append((-y + cx, -x + cy))\n",
    "    points.append((-y + cx, x + cy))\n",
    "    \n",
    "    pointX, pointY = zip(*points)\n",
    "    \n",
    "    pointX = list(pointX)\n",
    "    pointY = list(pointY)\n",
    "    \n",
    "    return pointX, pointY\n",
    "\n",
    "def circle_drawing(cx, cy, r):\n",
    "    \n",
    "    x = 0\n",
    "    y = r \n",
    "    d = 3 - 2 * r\n",
    "    \n",
    "    x_values = []\n",
    "    y_values = []\n",
    "    \n",
    "    pointX, pointY = eight_way_symmetric_plot(cx, cy, x, y)\n",
    "    \n",
    "    x_values.append(pointX)\n",
    "    y_values.append(pointY)\n",
    "    \n",
    "    while x <= y:\n",
    "        \n",
    "        print(f\"d : {d}\")\n",
    "        \n",
    "        if d < 0:\n",
    "            d += 4 * x + 6\n",
    "        else:\n",
    "            d += 4 * (x - y) + 10\n",
    "            y -= 1\n",
    "        \n",
    "        x += 1\n",
    "        pointX, pointY = eight_way_symmetric_plot(cx, cy, x, y)\n",
    "        \n",
    "        x_values.append(pointX)\n",
    "        y_values.append(pointY)\n",
    "        \n",
    "    \n",
    "    return x_values, y_values"
   ]
  },
  {
   "cell_type": "code",
   "execution_count": 114,
   "id": "c56f5bcc-0e71-483f-a69d-7f0079055329",
   "metadata": {},
   "outputs": [],
   "source": [
    "values = []\n",
    "valuesR = []\n",
    "dashed_values = []\n",
    "dashed_valuesR = []\n",
    "\n",
    "circles = []"
   ]
  },
  {
   "cell_type": "markdown",
   "id": "d17d31f6-9638-49c9-b1b6-19853c663024",
   "metadata": {},
   "source": [
    "# W\n"
   ]
  },
  {
   "cell_type": "code",
   "execution_count": 117,
   "id": "a3bf2378-76b5-4d02-872b-3f16ac2480ef",
   "metadata": {},
   "outputs": [],
   "source": [
    "dashed_values.append(draw_line(-6,5, -3,-3))\n",
    "values.append(draw_line(-3,-3, 0,0))\n",
    "\n",
    "\n",
    "values.append(draw_line(0,0, 3,-3))\n",
    "dashed_values.append(draw_line(3,-3, 6,5))\n",
    "\n",
    "valuesR.append(draw_line(6,5, 6,-5))\n",
    "dashed_valuesR.append(draw_line(6,-5, 10,-5))"
   ]
  },
  {
   "cell_type": "markdown",
   "id": "4bcb0d31-910c-4d51-9adc-70c529427356",
   "metadata": {},
   "source": [
    "# Unpacking"
   ]
  },
  {
   "cell_type": "code",
   "execution_count": 120,
   "id": "f459dc56-6287-4409-b3cc-1aba9763d7e8",
   "metadata": {},
   "outputs": [],
   "source": [
    "x_values, y_values = zip(*values)\n",
    "\n",
    "x_values = [item for sublist in x_values for item in (sublist + [None])]\n",
    "y_values = [item for sublist in y_values for item in (sublist + [None])]"
   ]
  },
  {
   "cell_type": "code",
   "execution_count": 122,
   "id": "cf78d215-4767-478e-be00-9633d6c06a8c",
   "metadata": {},
   "outputs": [],
   "source": [
    "x_valuesR, y_valuesR = zip(*valuesR)\n",
    "\n",
    "x_valuesR = [item for sublist in x_valuesR for item in (sublist + [None])]\n",
    "y_valuesR = [item for sublist in y_valuesR for item in (sublist + [None])]"
   ]
  },
  {
   "cell_type": "code",
   "execution_count": 124,
   "id": "1acc2348-96a3-4f36-a2e1-0a0abb81debd",
   "metadata": {},
   "outputs": [],
   "source": [
    "dashed_x, dashed_y = zip(*dashed_values)\n",
    "\n",
    "dashed_x = [item for sublist in dashed_x for item in (sublist + [None])]\n",
    "dashed_y = [item for sublist in dashed_y for item in (sublist + [None])]"
   ]
  },
  {
   "cell_type": "code",
   "execution_count": 126,
   "id": "c8829bd3-e09d-4b4b-9182-c9fe267f9d9f",
   "metadata": {},
   "outputs": [],
   "source": [
    "dashed_xR, dashed_yR = zip(*dashed_valuesR)\n",
    "\n",
    "dashed_xR = [item for sublist in dashed_xR for item in (sublist + [None])]\n",
    "dashed_yR = [item for sublist in dashed_yR for item in (sublist + [None])]"
   ]
  },
  {
   "cell_type": "code",
   "execution_count": 128,
   "id": "17413663-c7e8-4ad5-b1ad-0d473ae71e9b",
   "metadata": {},
   "outputs": [],
   "source": [
    "def plot_func():\n",
    "    plt.plot(x_values, y_values, color = 'green')\n",
    "    plt.plot(dashed_x, dashed_y, color = 'green', linestyle='dotted')\n",
    "    plt.plot(x_valuesR, y_valuesR, color = 'red')\n",
    "    plt.plot(dashed_xR, dashed_yR, color = 'red', linestyle='dotted')\n",
    "    #draw_circle()\n",
    "    plt.title(\"Lab1\")\n",
    "    plt.xlabel(\"x-axis\")\n",
    "    plt.ylabel(\"y-axis\")"
   ]
  },
  {
   "cell_type": "code",
   "execution_count": 130,
   "id": "b1f58d43-2e35-4292-93c1-21fc440832d7",
   "metadata": {},
   "outputs": [
    {
     "data": {
      "image/png": "[encoded data removed]",
      "text/plain": [
       "<Figure size 640x480 with 1 Axes>"
      ]
     },
     "metadata": {},
     "output_type": "display_data"
    }
   ],
   "source": [
    "plot_func()"
   ]
  },
  {
   "cell_type": "code",
   "execution_count": null,
   "id": "2f48dd53-821d-4c24-9bcb-467e79da8579",
   "metadata": {},
   "outputs": [],
   "source": []
  }
 ],
 "metadata": {
  "kernelspec": {
   "display_name": "Python 3 (ipykernel)",
   "language": "python",
   "name": "python3"
  },
  "language_info": {
   "codemirror_mode": {
    "name": "ipython",
    "version": 3
   },
   "file_extension": ".py",
   "mimetype": "text/x-python",
   "name": "python",
   "nbconvert_exporter": "python",
   "pygments_lexer": "ipython3",
   "version": "3.12.7"
  }
 },
 "nbformat": 4,
 "nbformat_minor": 5
}
