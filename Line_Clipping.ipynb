{
 "cells": [
  {
   "cell_type": "code",
   "execution_count": 2,
   "id": "083f25f8-a86e-48e3-8302-c3b5c151c567",
   "metadata": {},
   "outputs": [],
   "source": [
    "import matplotlib.pyplot as plt"
   ]
  },
  {
   "cell_type": "markdown",
   "id": "4f1541b9-9c33-4cc3-8a6a-d19bcbd58f80",
   "metadata": {},
   "source": [
    "# Window"
   ]
  },
  {
   "cell_type": "code",
   "execution_count": 5,
   "id": "866838d7-ab48-46e9-92e8-6b5be7516b4a",
   "metadata": {},
   "outputs": [],
   "source": [
    "x_lim = [20, 90, 90, 20, 20]\n",
    "y_lim = [20, 20, 70, 70, 20]"
   ]
  },
  {
   "cell_type": "code",
   "execution_count": 7,
   "id": "13ef8e1a-123c-4601-8b59-0e60ad9318b3",
   "metadata": {},
   "outputs": [],
   "source": [
    "x_min, x_max = min(x_lim), max(x_lim)\n",
    "y_min, y_max = min(y_lim), max(y_lim)"
   ]
  },
  {
   "cell_type": "markdown",
   "id": "b73f653e-afe2-49a5-9250-5851b8b640f0",
   "metadata": {},
   "source": [
    "print(x_min, x_max)\n",
    "print(y_min, y_max)"
   ]
  },
  {
   "cell_type": "markdown",
   "id": "888d4385-1ce4-44be-aa68-156886bc2f5b",
   "metadata": {},
   "source": [
    "# Predefined parameters"
   ]
  },
  {
   "cell_type": "code",
   "execution_count": 12,
   "id": "897eec29-4232-4479-aa6b-1195b085ecf8",
   "metadata": {},
   "outputs": [],
   "source": [
    "Top = 8 #1000\n",
    "Bottom = 4 #0100 \n",
    "Right = 2 #0010\n",
    "Left = 1 #0001\n",
    "Inside = 0"
   ]
  },
  {
   "cell_type": "markdown",
   "id": "3cac2187-c490-4c43-a508-ec853e3aa11c",
   "metadata": {},
   "source": [
    "# Assign the region code"
   ]
  },
  {
   "cell_type": "code",
   "execution_count": 15,
   "id": "70330364-657b-4249-a19b-f75c801d119e",
   "metadata": {},
   "outputs": [],
   "source": [
    "def region_code(x, y):\n",
    "    code = Inside\n",
    "    \n",
    "    if x < x_min :\n",
    "        code |= Left\n",
    "        \n",
    "    elif x > x_max :\n",
    "        code |= Right\n",
    "    \n",
    "    if y < y_min :\n",
    "        code |= Bottom\n",
    "    \n",
    "    elif y > y_max:\n",
    "        code |= Top\n",
    "    \n",
    "    return code"
   ]
  },
  {
   "cell_type": "markdown",
   "id": "2c38e735-e9a9-40ac-aa64-7ba50d0b5e6b",
   "metadata": {},
   "source": [
    "# Line Clipping"
   ]
  },
  {
   "cell_type": "code",
   "execution_count": 18,
   "id": "073ee64e-3a2f-4989-8446-db97ec90b06e",
   "metadata": {},
   "outputs": [],
   "source": [
    "def line_clipping(x1, y1, x2, y2):\n",
    "    \n",
    "    m = (y2 - y1) / (x2 - x1)\n",
    "    \n",
    "    counter = 0\n",
    "    \n",
    "    while True:\n",
    "\n",
    "        code1 = region_code(x1, y1)\n",
    "        code2 = region_code(x2, y2)\n",
    "        \n",
    "        if (code1 | code2 == 0) or (code1 & code2 !=0):\n",
    "            break\n",
    "        \n",
    "        if code1 != 0:\n",
    "            code_out = code1\n",
    "        \n",
    "        else:\n",
    "            code_out = code2\n",
    "            \n",
    "        \n",
    "        if code_out & Top:\n",
    "            y = y_max\n",
    "            x = x1 + (y - y1) / m\n",
    "        \n",
    "        elif code_out & Bottom:\n",
    "            y = y_min\n",
    "            x = x1 + (y - y1) / m\n",
    "        \n",
    "        elif code_out & Right:\n",
    "            x = x_max\n",
    "            y = y1 + m * (x - x1)\n",
    "        \n",
    "        elif code_out & Left:\n",
    "            x = x_min\n",
    "            y = y1 + m * (x - x1)\n",
    "            \n",
    "            \n",
    "        if code_out == code1:\n",
    "            x1, y1 = x, y\n",
    "        else:\n",
    "            x2, y2 = x, y\n",
    "    \n",
    "    print(\"After clipping :\")\n",
    "    print(f\"x1 : {x1}, y1 : {y1}\")\n",
    "    print(f\"x2 : {x2}, y2 : {y2}\")\n",
    "    \n",
    "    x_values = [x1, x2]\n",
    "    y_values = [y1, y2]\n",
    "    \n",
    "    return x_values, y_values"
   ]
  },
  {
   "cell_type": "markdown",
   "id": "eb9732a6-77fb-4662-ba07-e3fca4e59068",
   "metadata": {},
   "source": []
  }
 ],
 "metadata": {
  "kernelspec": {
   "display_name": "Python 3 (ipykernel)",
   "language": "python",
   "name": "python3"
  },
  "language_info": {
   "codemirror_mode": {
    "name": "ipython",
    "version": 3
   },
   "file_extension": ".py",
   "mimetype": "text/x-python",
   "name": "python",
   "nbconvert_exporter": "python",
   "pygments_lexer": "ipython3",
   "version": "3.12.7"
  }
 },
 "nbformat": 4,
 "nbformat_minor": 5
}
