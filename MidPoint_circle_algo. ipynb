{
 "cells": [
  {
   "cell_type": "code",
   "execution_count": 2,
   "id": "8a3a305c-142d-4f8d-b7da-9fe52851f171",
   "metadata": {},
   "outputs": [],
   "source": [
    "import matplotlib.pyplot as plt"
   ]
  },
  {
   "cell_type": "code",
   "execution_count": 4,
   "id": "61da78e9-5a42-4dd9-bee8-f0497f346f81",
   "metadata": {},
   "outputs": [],
   "source": [
    "def eight_way_symmetric_plot(cx, cy, x, y):\n",
    "    points = []\n",
    "    points.append((x + cx, y + cy))\n",
    "    points.append((x + cx, -y + cy))\n",
    "    points.append((-x + cx, -y + cy))\n",
    "    points.append((-x + cx, y + cy))\n",
    "    \n",
    "    points.append((y + cx, x + cy))\n",
    "    points.append((y + cx, -x + cy))\n",
    "    points.append((-y + cx, -x + cy))\n",
    "    points.append((-y + cx, x + cy))\n",
    "    \n",
    "    pointX, pointY = zip(*points)\n",
    "    \n",
    "    pointX = list(pointX)\n",
    "    pointY = list(pointY)\n",
    "    \n",
    "    \n",
    "    return pointX, pointY"
   ]
  },
  {
   "cell_type": "code",
   "execution_count": 6,
   "id": "dfc1fc64-7548-4298-9543-8a7ab8cd24b2",
   "metadata": {},
   "outputs": [],
   "source": [
    "def midpoint_circle(cx, cy, r):\n",
    "    \n",
    "    x = 0\n",
    "    y = r\n",
    "    p = 1 - r\n",
    "    \n",
    "    x_values = []\n",
    "    y_values = []\n",
    "    \n",
    "    pointX, pointY = eight_way_symmetric_plot(cx, cy, x, y)\n",
    "    x_values.append(pointX)\n",
    "    y_values.append(pointY)\n",
    "    \n",
    "    while x <= y:\n",
    "        \n",
    "        if p < 0:\n",
    "            p += 2 * x + 3\n",
    "        else:\n",
    "            p += 2 * (x - y) + 5\n",
    "            y -= 1\n",
    "        \n",
    "        x += 1\n",
    "            \n",
    "        pointX, pointY = eight_way_symmetric_plot(cx, cy, x, y)\n",
    "        \n",
    "        x_values.append(pointX)\n",
    "        y_values.append(pointY)\n",
    "    \n",
    "    return x_values, y_values"
   ]
  },
  {
   "cell_type": "code",
   "execution_count": 8,
   "id": "c8e902fe-7f77-42d7-86e4-2a1c36e1225b",
   "metadata": {},
   "outputs": [],
   "source": [
    "def plot_func(x_values, y_values, cx, cy):\n",
    "    plt.plot(x_values, y_values, marker = 'o', color = 'blue')\n",
    "    plt.plot(cx, cy, marker = 'o', color = 'red')\n",
    "    plt.title(\"Midpoint circle drawing algorithm\")\n",
    "    plt.xlabel(\"x-axis\")\n",
    "    plt.ylabel(\"y-axis\")\n",
    "    plt.grid(\"true\")"
   ]
  },
  {
   "cell_type": "code",
   "execution_count": 10,
   "id": "dce6a52f-3634-4bec-8279-d320d84f9992",
   "metadata": {},
   "outputs": [],
   "source": [
    "cx, cy = 2, 2\n",
    "r = 10\n",
    "\n",
    "x_values,y_values = midpoint_circle(cx, cy, r)"
   ]
  },
  {
   "cell_type": "code",
   "execution_count": 12,
   "id": "0461f468-2496-4155-a00c-e0ce6f023f75",
   "metadata": {},
   "outputs": [
    {
     "data": {
      "text/plain": [
       "[[2, 2, 2, 2, 12, 12, -8, -8],\n",
       " [3, 3, 1, 1, 12, 12, -8, -8],\n",
       " [4, 4, 0, 0, 12, 12, -8, -8],\n",
       " [5, 5, -1, -1, 12, 12, -8, -8],\n",
       " [6, 6, -2, -2, 11, 11, -7, -7],\n",
       " [7, 7, -3, -3, 11, 11, -7, -7],\n",
       " [8, 8, -4, -4, 10, 10, -6, -6],\n",
       " [9, 9, -5, -5, 9, 9, -5, -5],\n",
       " [10, 10, -6, -6, 8, 8, -4, -4]]"
      ]
     },
     "execution_count": 12,
     "metadata": {},
     "output_type": "execute_result"
    }
   ],
   "source": [
    "x_values"
   ]
  },
  {
   "cell_type": "code",
   "execution_count": 14,
   "id": "00d5a2ce-142e-4496-85f8-4c99cfc5baa4",
   "metadata": {},
   "outputs": [
    {
     "data": {
      "text/plain": [
       "[[12, -8, -8, 12, 2, 2, 2, 2],\n",
       " [12, -8, -8, 12, 3, 1, 1, 3],\n",
       " [12, -8, -8, 12, 4, 0, 0, 4],\n",
       " [12, -8, -8, 12, 5, -1, -1, 5],\n",
       " [11, -7, -7, 11, 6, -2, -2, 6],\n",
       " [11, -7, -7, 11, 7, -3, -3, 7],\n",
       " [10, -6, -6, 10, 8, -4, -4, 8],\n",
       " [9, -5, -5, 9, 9, -5, -5, 9],\n",
       " [8, -4, -4, 8, 10, -6, -6, 10]]"
      ]
     },
     "execution_count": 14,
     "metadata": {},
     "output_type": "execute_result"
    }
   ],
   "source": [
    "y_values"
   ]
  },
  {
   "cell_type": "code",
   "execution_count": null,
   "id": "0f741b8b-9aae-4079-9a80-1cfc254cfa83",
   "metadata": {},
   "outputs": [],
   "source": [
    "plot_func(x_values, y_values, cx, cy)"
   ]
  }
 ],
 "metadata": {
  "kernelspec": {
   "display_name": "Python 3 (ipykernel)",
   "language": "python",
   "name": "python3"
  },
  "language_info": {
   "codemirror_mode": {
    "name": "ipython",
    "version": 3
   },
   "file_extension": ".py",
   "mimetype": "text/x-python",
   "name": "python",
   "nbconvert_exporter": "python",
   "pygments_lexer": "ipython3",
   "version": "3.12.7"
  }
 },
 "nbformat": 4,
 "nbformat_minor": 5
}
